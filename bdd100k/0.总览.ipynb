{
 "cells": [
  {
   "cell_type": "markdown",
   "source": [
    "1. 下载BDD100k必要文件\n",
    "[bdd100k-download-site](https://code84.com/820142.html)\n",
    "解压如下圈出来的两个：\n",
    "![bdd100-image-name](images/bdd100-need-file.png)"
   ],
   "metadata": {
    "collapsed": false
   },
   "id": "650e8b11c154b656"
  }
 ],
 "metadata": {
  "kernelspec": {
   "display_name": "Python 3",
   "language": "python",
   "name": "python3"
  },
  "language_info": {
   "codemirror_mode": {
    "name": "ipython",
    "version": 2
   },
   "file_extension": ".py",
   "mimetype": "text/x-python",
   "name": "python",
   "nbconvert_exporter": "python",
   "pygments_lexer": "ipython2",
   "version": "2.7.6"
  }
 },
 "nbformat": 4,
 "nbformat_minor": 5
}

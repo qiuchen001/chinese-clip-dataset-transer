{
 "cells": [
  {
   "cell_type": "markdown",
   "source": [
    "cn-clip要求图片以base64的形式存储，文件每行表示一张图片，包含图片id（int型）与图片base64，以tab隔开\n",
    "![cn-clip-image-base64](images/cn-clip-image-base64.png)\n",
    "\n",
    "因此我们可以基于前面以数字id名称的图片对应的内容转换为base64进行存储"
   ],
   "metadata": {
    "collapsed": false
   },
   "id": "9d5ce8f331f98ded"
  },
  {
   "cell_type": "code",
   "execution_count": null,
   "outputs": [
    {
     "name": "stdout",
     "output_type": "stream",
     "text": [
      "E:\\playground\\ai\\datasets\\bdd100k\\bdd100k_images\\bdd100k\\images\\100k\\train_id E:\\playground\\ai\\datasets\\bdd100kLabelsToCNClipDesc train\n"
     ]
    }
   ],
   "source": [
    "import os\n",
    "from PIL import Image\n",
    "from io import BytesIO\n",
    "import base64\n",
    "\n",
    "\n",
    "def imageTobase64(file_name):\n",
    "    img = Image.open(file_name)  # 访问图片路径\n",
    "    img_buffer = BytesIO()\n",
    "    img.save(img_buffer, format=img.format)\n",
    "    byte_data = img_buffer.getvalue()\n",
    "    base64_str = base64.b64encode(byte_data)  # bytes\n",
    "    base64_str = base64_str.decode(\"utf-8\")  # str\n",
    "    return base64_str\n",
    "\n",
    "\n",
    "def saveBase64(base64_str, image_id, img_tsv_filepath):\n",
    "    # 将数据写入文件，每行表示一张图片，以制表符隔开\n",
    "    with open(img_tsv_filepath, 'a') as f:\n",
    "        f.write(f\"{image_id}\\t{base64_str}\\n\")\n",
    "\n",
    "\n",
    "def main(srcDir, dstDir, split):\n",
    "    for dirPath, dirNames, filenames in os.walk(srcDir):\n",
    "        for i, filename in enumerate(filenames):\n",
    "            filepath = os.path.join(dirPath, filename)\n",
    "            base64_str = imageTobase64(filepath)\n",
    "\n",
    "            imageId = filename.rstrip(\".jpg\")\n",
    "\n",
    "            img_tsv_filepath = os.path.join(dstDir, split + \"_imgs.tsv\")\n",
    "\n",
    "            saveBase64(base64_str, imageId, img_tsv_filepath)\n",
    "\n",
    "\n",
    "if __name__ == '__main__':\n",
    "    split_list = [\"train\", \"valid\", \"test\"]\n",
    "    \n",
    "    for item in split_list:\n",
    "        base_dir =  r'E:\\playground\\ai\\datasets\\bdd100k\\bdd100k_images\\bdd100k\\images\\100k'\n",
    "        src_dir = os.path.join(base_dir, item + \"_id\")\n",
    "        dst_dir = r'E:\\playground\\ai\\datasets\\bdd100kLabelsToCNClipDesc'\n",
    "        \n",
    "        print(src_dir, dst_dir, item)\n",
    "        \n",
    "        main(src_dir, dst_dir, item)"
   ],
   "metadata": {
    "collapsed": false,
    "is_executing": true,
    "ExecuteTime": {
     "start_time": "2024-09-25T09:09:12.799180800Z"
    }
   },
   "id": "dc4609ca17ded639"
  },
  {
   "cell_type": "code",
   "execution_count": null,
   "outputs": [],
   "source": [],
   "metadata": {
    "collapsed": false
   },
   "id": "81130129014ff25"
  }
 ],
 "metadata": {
  "kernelspec": {
   "display_name": "Python 3",
   "language": "python",
   "name": "python3"
  },
  "language_info": {
   "codemirror_mode": {
    "name": "ipython",
    "version": 2
   },
   "file_extension": ".py",
   "mimetype": "text/x-python",
   "name": "python",
   "nbconvert_exporter": "python",
   "pygments_lexer": "ipython2",
   "version": "2.7.6"
  }
 },
 "nbformat": 4,
 "nbformat_minor": 5
}

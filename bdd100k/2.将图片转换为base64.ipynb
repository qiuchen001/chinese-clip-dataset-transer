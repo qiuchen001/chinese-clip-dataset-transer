{
 "cells": [
  {
   "cell_type": "markdown",
   "source": [
    "cn-clip要求图片以base64的形式存储，文件每行表示一张图片，包含图片id（int型）与图片base64，以tab隔开\n",
    "![cn-clip-image-base64](images/cn-clip-image-base64.png)\n",
    "\n",
    "因此我们可以基于前面以数字id名称的图片对应的内容转换为base64进行存储"
   ],
   "metadata": {
    "collapsed": false
   },
   "id": "9d5ce8f331f98ded"
  },
  {
   "cell_type": "code",
   "execution_count": 7,
   "outputs": [
    {
     "name": "stdout",
     "output_type": "stream",
     "text": [
      "E:\\playground\\ai\\datasets\\bdd100k\\bdd100k_images\\bdd100k\\images\\100k\\train_id E:\\playground\\ai\\datasets\\bdd100kLabelsToCNClipTag train\n",
      "E:\\playground\\ai\\datasets\\bdd100k\\bdd100k_images\\bdd100k\\images\\100k\\valid_id E:\\playground\\ai\\datasets\\bdd100kLabelsToCNClipTag valid\n"
     ]
    },
    {
     "ename": "KeyboardInterrupt",
     "evalue": "",
     "output_type": "error",
     "traceback": [
      "\u001B[1;31m---------------------------------------------------------------------------\u001B[0m",
      "\u001B[1;31mKeyboardInterrupt\u001B[0m                         Traceback (most recent call last)",
      "Cell \u001B[1;32mIn[7], line 46\u001B[0m\n\u001B[0;32m     42\u001B[0m dst_dir \u001B[38;5;241m=\u001B[39m \u001B[38;5;124mr\u001B[39m\u001B[38;5;124m'\u001B[39m\u001B[38;5;124mE:\u001B[39m\u001B[38;5;124m\\\u001B[39m\u001B[38;5;124mplayground\u001B[39m\u001B[38;5;124m\\\u001B[39m\u001B[38;5;124mai\u001B[39m\u001B[38;5;124m\\\u001B[39m\u001B[38;5;124mdatasets\u001B[39m\u001B[38;5;124m\\\u001B[39m\u001B[38;5;124mbdd100kLabelsToCNClipTag\u001B[39m\u001B[38;5;124m'\u001B[39m\n\u001B[0;32m     44\u001B[0m \u001B[38;5;28mprint\u001B[39m(src_dir, dst_dir, item)\n\u001B[1;32m---> 46\u001B[0m \u001B[43mmain\u001B[49m\u001B[43m(\u001B[49m\u001B[43msrc_dir\u001B[49m\u001B[43m,\u001B[49m\u001B[43m \u001B[49m\u001B[43mdst_dir\u001B[49m\u001B[43m,\u001B[49m\u001B[43m \u001B[49m\u001B[43mitem\u001B[49m\u001B[43m)\u001B[49m\n",
      "Cell \u001B[1;32mIn[7], line 33\u001B[0m, in \u001B[0;36mmain\u001B[1;34m(srcDir, dstDir, split)\u001B[0m\n\u001B[0;32m     29\u001B[0m imageId \u001B[38;5;241m=\u001B[39m filename\u001B[38;5;241m.\u001B[39mrstrip(\u001B[38;5;124m\"\u001B[39m\u001B[38;5;124m.jpg\u001B[39m\u001B[38;5;124m\"\u001B[39m)\n\u001B[0;32m     31\u001B[0m img_tsv_filepath \u001B[38;5;241m=\u001B[39m os\u001B[38;5;241m.\u001B[39mpath\u001B[38;5;241m.\u001B[39mjoin(dstDir, split \u001B[38;5;241m+\u001B[39m \u001B[38;5;124m\"\u001B[39m\u001B[38;5;124m_imgs.tsv\u001B[39m\u001B[38;5;124m\"\u001B[39m)\n\u001B[1;32m---> 33\u001B[0m \u001B[43msaveBase64\u001B[49m\u001B[43m(\u001B[49m\u001B[43mbase64_str\u001B[49m\u001B[43m,\u001B[49m\u001B[43m \u001B[49m\u001B[43mimageId\u001B[49m\u001B[43m,\u001B[49m\u001B[43m \u001B[49m\u001B[43mimg_tsv_filepath\u001B[49m\u001B[43m)\u001B[49m\n",
      "Cell \u001B[1;32mIn[7], line 19\u001B[0m, in \u001B[0;36msaveBase64\u001B[1;34m(base64_str, image_id, img_tsv_filepath)\u001B[0m\n\u001B[0;32m     17\u001B[0m \u001B[38;5;28;01mdef\u001B[39;00m \u001B[38;5;21msaveBase64\u001B[39m(base64_str, image_id, img_tsv_filepath):\n\u001B[0;32m     18\u001B[0m     \u001B[38;5;66;03m# 将数据写入文件，每行表示一张图片，以制表符隔开\u001B[39;00m\n\u001B[1;32m---> 19\u001B[0m     \u001B[38;5;28;01mwith\u001B[39;00m \u001B[38;5;28;43mopen\u001B[39;49m\u001B[43m(\u001B[49m\u001B[43mimg_tsv_filepath\u001B[49m\u001B[43m,\u001B[49m\u001B[43m \u001B[49m\u001B[38;5;124;43m'\u001B[39;49m\u001B[38;5;124;43ma\u001B[39;49m\u001B[38;5;124;43m'\u001B[39;49m\u001B[43m)\u001B[49m \u001B[38;5;28;01mas\u001B[39;00m f:\n\u001B[0;32m     20\u001B[0m         f\u001B[38;5;241m.\u001B[39mwrite(\u001B[38;5;124mf\u001B[39m\u001B[38;5;124m\"\u001B[39m\u001B[38;5;132;01m{\u001B[39;00mimage_id\u001B[38;5;132;01m}\u001B[39;00m\u001B[38;5;130;01m\\t\u001B[39;00m\u001B[38;5;132;01m{\u001B[39;00mbase64_str\u001B[38;5;132;01m}\u001B[39;00m\u001B[38;5;130;01m\\n\u001B[39;00m\u001B[38;5;124m\"\u001B[39m)\n",
      "File \u001B[1;32mD:\\soft\\New\\miniconda\\envs\\bdd100k\\lib\\site-packages\\IPython\\core\\interactiveshell.py:324\u001B[0m, in \u001B[0;36m_modified_open\u001B[1;34m(file, *args, **kwargs)\u001B[0m\n\u001B[0;32m    317\u001B[0m \u001B[38;5;28;01mif\u001B[39;00m file \u001B[38;5;129;01min\u001B[39;00m {\u001B[38;5;241m0\u001B[39m, \u001B[38;5;241m1\u001B[39m, \u001B[38;5;241m2\u001B[39m}:\n\u001B[0;32m    318\u001B[0m     \u001B[38;5;28;01mraise\u001B[39;00m \u001B[38;5;167;01mValueError\u001B[39;00m(\n\u001B[0;32m    319\u001B[0m         \u001B[38;5;124mf\u001B[39m\u001B[38;5;124m\"\u001B[39m\u001B[38;5;124mIPython won\u001B[39m\u001B[38;5;124m'\u001B[39m\u001B[38;5;124mt let you open fd=\u001B[39m\u001B[38;5;132;01m{\u001B[39;00mfile\u001B[38;5;132;01m}\u001B[39;00m\u001B[38;5;124m by default \u001B[39m\u001B[38;5;124m\"\u001B[39m\n\u001B[0;32m    320\u001B[0m         \u001B[38;5;124m\"\u001B[39m\u001B[38;5;124mas it is likely to crash IPython. If you know what you are doing, \u001B[39m\u001B[38;5;124m\"\u001B[39m\n\u001B[0;32m    321\u001B[0m         \u001B[38;5;124m\"\u001B[39m\u001B[38;5;124myou can use builtins\u001B[39m\u001B[38;5;124m'\u001B[39m\u001B[38;5;124m open.\u001B[39m\u001B[38;5;124m\"\u001B[39m\n\u001B[0;32m    322\u001B[0m     )\n\u001B[1;32m--> 324\u001B[0m \u001B[38;5;28;01mreturn\u001B[39;00m io_open(file, \u001B[38;5;241m*\u001B[39margs, \u001B[38;5;241m*\u001B[39m\u001B[38;5;241m*\u001B[39mkwargs)\n",
      "\u001B[1;31mKeyboardInterrupt\u001B[0m: "
     ]
    }
   ],
   "source": [
    "import os\n",
    "from PIL import Image\n",
    "from io import BytesIO\n",
    "import base64\n",
    "\n",
    "\n",
    "def imageTobase64(file_name):\n",
    "    img = Image.open(file_name)  # 访问图片路径\n",
    "    img_buffer = BytesIO()\n",
    "    img.save(img_buffer, format=img.format)\n",
    "    byte_data = img_buffer.getvalue()\n",
    "    base64_str = base64.b64encode(byte_data)  # bytes\n",
    "    base64_str = base64_str.decode(\"utf-8\")  # str\n",
    "    return base64_str\n",
    "\n",
    "\n",
    "def saveBase64(base64_str, image_id, img_tsv_filepath):\n",
    "    # 将数据写入文件，每行表示一张图片，以制表符隔开\n",
    "    with open(img_tsv_filepath, 'a') as f:\n",
    "        f.write(f\"{image_id}\\t{base64_str}\\n\")\n",
    "\n",
    "\n",
    "def main(srcDir, dstDir, split):\n",
    "    for dirPath, dirNames, filenames in os.walk(srcDir):\n",
    "        for i, filename in enumerate(filenames):\n",
    "            filepath = os.path.join(dirPath, filename)\n",
    "            base64_str = imageTobase64(filepath)\n",
    "\n",
    "            imageId = filename.rstrip(\".jpg\")\n",
    "\n",
    "            img_tsv_filepath = os.path.join(dstDir, split + \"_imgs.tsv\")\n",
    "\n",
    "            saveBase64(base64_str, imageId, img_tsv_filepath)\n",
    "\n",
    "\n",
    "if __name__ == '__main__':\n",
    "    split_list = [\"train\", \"valid\", \"test\"]\n",
    "    \n",
    "    for item in split_list:\n",
    "        base_dir =  r'E:\\playground\\ai\\datasets\\bdd100k\\bdd100k_images\\bdd100k\\images\\100k'\n",
    "        src_dir = os.path.join(base_dir, item + \"_id\")\n",
    "        dst_dir = r'E:\\playground\\ai\\datasets\\bdd100kLabelsToCNClipTag'\n",
    "        \n",
    "        print(src_dir, dst_dir, item)\n",
    "        \n",
    "        main(src_dir, dst_dir, item)"
   ],
   "metadata": {
    "collapsed": false,
    "ExecuteTime": {
     "end_time": "2024-09-26T03:46:51.215071500Z",
     "start_time": "2024-09-26T03:38:25.389174100Z"
    }
   },
   "id": "dc4609ca17ded639"
  },
  {
   "cell_type": "code",
   "execution_count": null,
   "outputs": [],
   "source": [],
   "metadata": {
    "collapsed": false
   },
   "id": "81130129014ff25"
  }
 ],
 "metadata": {
  "kernelspec": {
   "display_name": "Python 3",
   "language": "python",
   "name": "python3"
  },
  "language_info": {
   "codemirror_mode": {
    "name": "ipython",
    "version": 2
   },
   "file_extension": ".py",
   "mimetype": "text/x-python",
   "name": "python",
   "nbconvert_exporter": "python",
   "pygments_lexer": "ipython2",
   "version": "2.7.6"
  }
 },
 "nbformat": 4,
 "nbformat_minor": 5
}

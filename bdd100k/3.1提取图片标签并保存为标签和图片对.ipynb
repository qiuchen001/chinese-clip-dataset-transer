{
 "cells": [
  {
   "cell_type": "markdown",
   "source": [
    "# 将bdd100k图片标签，提取为cn-clip要求的格式\n",
    "cn-clip要求的图片标签格式如下：\n",
    "![cn-clip-image-id](images/cn-clip-image-id.png)\n",
    "\n",
    "其中text_id表示标签id，text表示标签名称，image_ids表示对应的图片"
   ],
   "metadata": {
    "collapsed": false
   },
   "id": "961233066540d0b1"
  },
  {
   "cell_type": "markdown",
   "source": [
    "bdd100k中的图片标签数据，是一张图片多个标签，在我们这个版本中，是将图片的标签拆开，最终呈现的效果是:\n",
    "![image-single-tag](images/image-single-tag.png)"
   ],
   "metadata": {
    "collapsed": false
   },
   "id": "71bd8350c0e56c75"
  },
  {
   "cell_type": "code",
   "execution_count": 1,
   "outputs": [
    {
     "ename": "FileNotFoundError",
     "evalue": "[Errno 2] No such file or directory: 'train_image_id_map.json'",
     "output_type": "error",
     "traceback": [
      "\u001B[1;31m---------------------------------------------------------------------------\u001B[0m",
      "\u001B[1;31mFileNotFoundError\u001B[0m                         Traceback (most recent call last)",
      "Cell \u001B[1;32mIn[1], line 109\u001B[0m\n\u001B[0;32m    107\u001B[0m dstDir \u001B[38;5;241m=\u001B[39m \u001B[38;5;124mr\u001B[39m\u001B[38;5;124m'\u001B[39m\u001B[38;5;124mE:\u001B[39m\u001B[38;5;124m\\\u001B[39m\u001B[38;5;124mplayground\u001B[39m\u001B[38;5;124m\\\u001B[39m\u001B[38;5;124mai\u001B[39m\u001B[38;5;124m\\\u001B[39m\u001B[38;5;124mdatasets\u001B[39m\u001B[38;5;124m\\\u001B[39m\u001B[38;5;124mbdd100kLabelsToCNClip\u001B[39m\u001B[38;5;124m'\u001B[39m\n\u001B[0;32m    108\u001B[0m split \u001B[38;5;241m=\u001B[39m \u001B[38;5;124m'\u001B[39m\u001B[38;5;124mtrain\u001B[39m\u001B[38;5;124m'\u001B[39m\n\u001B[1;32m--> 109\u001B[0m \u001B[43mmain\u001B[49m\u001B[43m(\u001B[49m\u001B[43msrcDir\u001B[49m\u001B[43m,\u001B[49m\u001B[43m \u001B[49m\u001B[43mdstDir\u001B[49m\u001B[43m,\u001B[49m\u001B[43m \u001B[49m\u001B[43msplit\u001B[49m\u001B[43m)\u001B[49m\n",
      "Cell \u001B[1;32mIn[1], line 77\u001B[0m, in \u001B[0;36mmain\u001B[1;34m(src_dir, dst_dir, split)\u001B[0m\n\u001B[0;32m     75\u001B[0m \u001B[38;5;28;01mdef\u001B[39;00m \u001B[38;5;21mmain\u001B[39m(src_dir, dst_dir, split):\n\u001B[0;32m     76\u001B[0m     \u001B[38;5;66;03m# 读取图片字符串名称和数字名称的映射\u001B[39;00m\n\u001B[1;32m---> 77\u001B[0m     image_id_map \u001B[38;5;241m=\u001B[39m \u001B[43mget_image_id_map\u001B[49m\u001B[43m(\u001B[49m\u001B[43msplit\u001B[49m\u001B[43m)\u001B[49m\n\u001B[0;32m     79\u001B[0m     \u001B[38;5;28;01mfor\u001B[39;00m dir_path, _, filenames \u001B[38;5;129;01min\u001B[39;00m os\u001B[38;5;241m.\u001B[39mwalk(src_dir):\n\u001B[0;32m     80\u001B[0m         \u001B[38;5;28;01mfor\u001B[39;00m i, filename \u001B[38;5;129;01min\u001B[39;00m \u001B[38;5;28menumerate\u001B[39m(filenames):\n",
      "Cell \u001B[1;32mIn[1], line 15\u001B[0m, in \u001B[0;36mget_image_id_map\u001B[1;34m(split)\u001B[0m\n\u001B[0;32m     13\u001B[0m \u001B[38;5;28;01mdef\u001B[39;00m \u001B[38;5;21mget_image_id_map\u001B[39m(split):\n\u001B[0;32m     14\u001B[0m     image_id_map_filename \u001B[38;5;241m=\u001B[39m \u001B[38;5;124m\"\u001B[39m\u001B[38;5;132;01m{}\u001B[39;00m\u001B[38;5;124m_image_id_map.json\u001B[39m\u001B[38;5;124m\"\u001B[39m \u001B[38;5;241m.\u001B[39m \u001B[38;5;28mformat\u001B[39m(split)\n\u001B[1;32m---> 15\u001B[0m     \u001B[38;5;28;01mwith\u001B[39;00m \u001B[38;5;28;43mopen\u001B[39;49m\u001B[43m(\u001B[49m\u001B[43mimage_id_map_filename\u001B[49m\u001B[43m,\u001B[49m\u001B[43m \u001B[49m\u001B[38;5;124;43m'\u001B[39;49m\u001B[38;5;124;43mr\u001B[39;49m\u001B[38;5;124;43m'\u001B[39;49m\u001B[43m)\u001B[49m \u001B[38;5;28;01mas\u001B[39;00m f:\n\u001B[0;32m     16\u001B[0m         image_id_map \u001B[38;5;241m=\u001B[39m json\u001B[38;5;241m.\u001B[39mload(f)\n\u001B[0;32m     18\u001B[0m     \u001B[38;5;28;01mreturn\u001B[39;00m image_id_map\n",
      "File \u001B[1;32mD:\\soft\\New\\miniconda\\envs\\bdd100k\\lib\\site-packages\\IPython\\core\\interactiveshell.py:324\u001B[0m, in \u001B[0;36m_modified_open\u001B[1;34m(file, *args, **kwargs)\u001B[0m\n\u001B[0;32m    317\u001B[0m \u001B[38;5;28;01mif\u001B[39;00m file \u001B[38;5;129;01min\u001B[39;00m {\u001B[38;5;241m0\u001B[39m, \u001B[38;5;241m1\u001B[39m, \u001B[38;5;241m2\u001B[39m}:\n\u001B[0;32m    318\u001B[0m     \u001B[38;5;28;01mraise\u001B[39;00m \u001B[38;5;167;01mValueError\u001B[39;00m(\n\u001B[0;32m    319\u001B[0m         \u001B[38;5;124mf\u001B[39m\u001B[38;5;124m\"\u001B[39m\u001B[38;5;124mIPython won\u001B[39m\u001B[38;5;124m'\u001B[39m\u001B[38;5;124mt let you open fd=\u001B[39m\u001B[38;5;132;01m{\u001B[39;00mfile\u001B[38;5;132;01m}\u001B[39;00m\u001B[38;5;124m by default \u001B[39m\u001B[38;5;124m\"\u001B[39m\n\u001B[0;32m    320\u001B[0m         \u001B[38;5;124m\"\u001B[39m\u001B[38;5;124mas it is likely to crash IPython. If you know what you are doing, \u001B[39m\u001B[38;5;124m\"\u001B[39m\n\u001B[0;32m    321\u001B[0m         \u001B[38;5;124m\"\u001B[39m\u001B[38;5;124myou can use builtins\u001B[39m\u001B[38;5;124m'\u001B[39m\u001B[38;5;124m open.\u001B[39m\u001B[38;5;124m\"\u001B[39m\n\u001B[0;32m    322\u001B[0m     )\n\u001B[1;32m--> 324\u001B[0m \u001B[38;5;28;01mreturn\u001B[39;00m io_open(file, \u001B[38;5;241m*\u001B[39margs, \u001B[38;5;241m*\u001B[39m\u001B[38;5;241m*\u001B[39mkwargs)\n",
      "\u001B[1;31mFileNotFoundError\u001B[0m: [Errno 2] No such file or directory: 'train_image_id_map.json'"
     ]
    }
   ],
   "source": [
    "import os\n",
    "import json\n",
    "\n",
    "\n",
    "# 获取标签与标签id影射\n",
    "def get_category_id_map():\n",
    "    with open('category_map.json', 'r') as f:\n",
    "        category_id_map = json.load(f)\n",
    "    return category_id_map\n",
    "\n",
    "\n",
    " # 读取图片字符串名称和数字名称的映射\n",
    "def get_image_id_map(split):\n",
    "    image_id_map_filename = \"{}_image_id_map.json\" . format(split)\n",
    "    with open(image_id_map_filename, 'r') as f:\n",
    "        image_id_map = json.load(f)\n",
    "\n",
    "    return image_id_map\n",
    "\n",
    "\n",
    "# 从bdd100k图片标签文件中提取标签\n",
    "def extractTags(jsonFile):\n",
    "    tags = []\n",
    "    f = open(jsonFile)\n",
    "    info = json.load(f)\n",
    "    objects = info['frames'][0]['objects']\n",
    "    attributes = info['attributes']\n",
    "\n",
    "    category_id_map = get_category_id_map()\n",
    "    for i in objects:\n",
    "        if i['category'] in category_id_map:\n",
    "            if i['category'] == 'traffic sign' or i['category'] == 'traffic light':\n",
    "                name = i['category'] + \"/\" + i['attributes']['trafficLightColor']\n",
    "            else:\n",
    "                name = i['category']\n",
    "            tagInfo = {\n",
    "                \"name\": name,\n",
    "                \"id\": category_id_map[name]['id']\n",
    "            }\n",
    "            tags.append(tagInfo)\n",
    "        else:\n",
    "            print(\"new category:\" + i['category'])\n",
    "\n",
    "    if 'weather' in attributes:\n",
    "        name = 'weather/' + attributes['weather']\n",
    "        tagInfo = {\n",
    "            \"name\": name,\n",
    "            \"id\": category_id_map[name]['id']\n",
    "        }\n",
    "        tags.append(tagInfo)\n",
    "\n",
    "    if 'scene' in attributes:\n",
    "        name = 'scene/' + attributes['scene']\n",
    "        tagInfo = {\n",
    "            \"name\": name,\n",
    "            \"id\": category_id_map[name]['id']\n",
    "        }\n",
    "        tags.append(tagInfo)\n",
    "\n",
    "    if 'timeofday' in attributes:\n",
    "        name = 'timeofday/' + attributes['timeofday']\n",
    "        tagInfo = {\n",
    "            \"name\": name,\n",
    "            \"id\": category_id_map[name]['id']\n",
    "        }\n",
    "        tags.append(tagInfo)\n",
    "\n",
    "    # 对图片标签进行去重\n",
    "    unique_list = list({tuple(d.items()) for d in tags})\n",
    "    unique_list = [dict(t) for t in unique_list]\n",
    "\n",
    "    return unique_list\n",
    "\n",
    "\n",
    "def main(src_dir, dst_dir, split):\n",
    "    # 读取图片字符串名称和数字名称的映射\n",
    "    image_id_map = get_image_id_map(split)\n",
    "\n",
    "    for dir_path, _, filenames in os.walk(src_dir):\n",
    "        for i, filename in enumerate(filenames):\n",
    "            print(\"processing: {}, {}\".format(i, filename))\n",
    "            \n",
    "            # 提取图片标签\n",
    "            filepath = os.path.join(dir_path, filename)\n",
    "            tags = extractTags(str(filepath))\n",
    "\n",
    "            # 获得图片数字id名称\n",
    "            imageName = filename.rstrip(\".json\")\n",
    "            imageId = image_id_map[imageName]\n",
    "\n",
    "            if len(tags):\n",
    "                texts_jsonl_filepath = os.path.join(dst_dir, split + \"_texts.jsonl\")\n",
    "                # 以标签-图片的形式保存\n",
    "                with open(texts_jsonl_filepath, 'a') as f:\n",
    "                    for tag in tags:\n",
    "                        imageCNClipJson = {\n",
    "                            \"text_id\": tag['id'],\n",
    "                            \"text\": tag['name'],\n",
    "                            \"image_ids\": [imageId],\n",
    "                        }\n",
    "                        json.dump(imageCNClipJson, f)\n",
    "                        f.write('\\n')\n",
    "\n",
    "\n",
    "if __name__ == '__main__':\n",
    "    srcDir = r'E:\\playground\\ai\\datasets\\bdd100k\\bdd100k_labels\\bdd100k\\labels\\100k\\train'\n",
    "    dstDir = r'E:\\playground\\ai\\datasets\\bdd100kLabelsToCNClip'\n",
    "    split = 'train'\n",
    "    main(srcDir, dstDir, split)\n"
   ],
   "metadata": {
    "collapsed": false,
    "ExecuteTime": {
     "end_time": "2024-09-25T07:56:36.280404500Z",
     "start_time": "2024-09-25T07:56:35.583527200Z"
    }
   },
   "id": "d75a2f868dd56cd9"
  },
  {
   "cell_type": "markdown",
   "source": [
    "使用这种格式的数据进行训练，结果并不理想，猜测大概是两方面的原因：\n",
    "1. 标签使用的是英文\n",
    "2. 单个batch-size中，出现相同标签或图片的概率过大\n",
    "\n",
    "考虑以上两种原因，做了如下调整：\n",
    "1. 将标签翻译成对应的英文\n",
    "2. 将图片的多个标签转换为一段话"
   ],
   "metadata": {
    "collapsed": false
   },
   "id": "3ba4a7cbb9e756e0"
  }
 ],
 "metadata": {
  "kernelspec": {
   "display_name": "Python 3",
   "language": "python",
   "name": "python3"
  },
  "language_info": {
   "codemirror_mode": {
    "name": "ipython",
    "version": 2
   },
   "file_extension": ".py",
   "mimetype": "text/x-python",
   "name": "python",
   "nbconvert_exporter": "python",
   "pygments_lexer": "ipython2",
   "version": "2.7.6"
  }
 },
 "nbformat": 4,
 "nbformat_minor": 5
}

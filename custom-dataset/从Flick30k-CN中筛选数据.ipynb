{
 "cells": [
  {
   "cell_type": "code",
   "execution_count": null,
   "id": "initial_id",
   "metadata": {
    "collapsed": true
   },
   "outputs": [],
   "source": [
    "import json\n",
    "\n",
    "jsonl_src_path = r\"E:\\playground\\ai\\datasets\\Flickr30k-CN\\train_texts.jsonl\"\n",
    "jsonl_dst_path = r\"E:\\playground\\ai\\datasets\\custom-cn-clip-datasets\\train_texts.jsonl\"\n",
    "\n",
    "tsv_src_path = r\"E:\\playground\\ai\\datasets\\Flickr30k-CN\\train_imgs.tsv\"\n",
    "tsv_dst_path = r\"E:\\playground\\ai\\datasets\\custom-cn-clip-datasets\\train_imgs.tsv\"\n",
    "\n",
    "\n",
    "def read_tsv(file_path, seek_id):\n",
    "    with open(file_path, \"r\", encoding='utf-8') as file:\n",
    "        for line in file:\n",
    "            pair_list = line.split('\\t')\n",
    "            if int(pair_list[0]) == seek_id:\n",
    "                write_tsv(tsv_dst_path, line)\n",
    "\n",
    "\n",
    "def write_tsv(file_path, data):\n",
    "    with open(file_path, \"a\") as file:\n",
    "        file.write(data)\n",
    "\n",
    "\n",
    "def read_jsonl(file_path):\n",
    "    with open(file_path, \"r\", encoding='utf-8') as file:\n",
    "        for line in file:\n",
    "            json_obj = json.loads(line)\n",
    "            text = json_obj['text']\n",
    "            if len(text) > 50:\n",
    "                continue\n",
    "\n",
    "            # if \"交通灯\" in text or \"汽车\" in text:\n",
    "            if \"公交车\" in text or \"行人\" in text or \"路口\" in text or \"自行车\" in text:\n",
    "                print(text)\n",
    "                write_jsonl(jsonl_dst_path, line)\n",
    "\n",
    "                image_ids = json_obj['image_ids']\n",
    "                for item in image_ids:\n",
    "                    read_tsv(tsv_src_path, item)\n",
    "\n",
    "\n",
    "def write_jsonl(file_path, data):\n",
    "    with open(file_path, \"a\", encoding='utf-8') as file:\n",
    "        file.write(data)\n",
    "\n",
    "\n",
    "read_jsonl(jsonl_src_path)\n"
   ]
  },
  {
   "cell_type": "code",
   "execution_count": null,
   "outputs": [],
   "source": [],
   "metadata": {
    "collapsed": false
   },
   "id": "aacd54def120cf82"
  }
 ],
 "metadata": {
  "kernelspec": {
   "display_name": "Python 3",
   "language": "python",
   "name": "python3"
  },
  "language_info": {
   "codemirror_mode": {
    "name": "ipython",
    "version": 2
   },
   "file_extension": ".py",
   "mimetype": "text/x-python",
   "name": "python",
   "nbconvert_exporter": "python",
   "pygments_lexer": "ipython2",
   "version": "2.7.6"
  }
 },
 "nbformat": 4,
 "nbformat_minor": 5
}
